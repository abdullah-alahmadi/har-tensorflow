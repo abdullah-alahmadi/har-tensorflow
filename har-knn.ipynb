{
 "cells": [
  {
   "cell_type": "code",
   "execution_count": 1,
   "metadata": {},
   "outputs": [],
   "source": [
    "import numpy as np\n",
    "import pandas as pd\n",
    "from sklearn.model_selection import train_test_split\n",
    "from sklearn.preprocessing import StandardScaler\n",
    "from sklearn.preprocessing import LabelEncoder\n",
    "from sklearn.neighbors import KNeighborsClassifier\n",
    "from sklearn.metrics import confusion_matrix\n",
    "from sklearn.metrics import accuracy_score\n",
    "import pickle"
   ]
  },
  {
   "cell_type": "code",
   "execution_count": 2,
   "metadata": {},
   "outputs": [],
   "source": [
    "data1 = pd.read_csv('data/data1.csv')\n",
    "data2 = pd.read_csv('data/data2.csv')\n",
    "data3 = pd.read_csv('data/data3.csv')\n",
    "data4 = pd.read_csv('data/data4.csv')"
   ]
  },
  {
   "cell_type": "code",
   "execution_count": 3,
   "metadata": {},
   "outputs": [
    {
     "data": {
      "text/html": [
       "<div>\n",
       "<style scoped>\n",
       "    .dataframe tbody tr th:only-of-type {\n",
       "        vertical-align: middle;\n",
       "    }\n",
       "\n",
       "    .dataframe tbody tr th {\n",
       "        vertical-align: top;\n",
       "    }\n",
       "\n",
       "    .dataframe thead th {\n",
       "        text-align: right;\n",
       "    }\n",
       "</style>\n",
       "<table border=\"1\" class=\"dataframe\">\n",
       "  <thead>\n",
       "    <tr style=\"text-align: right;\">\n",
       "      <th></th>\n",
       "      <th>taget</th>\n",
       "      <th>rssi</th>\n",
       "      <th>A1</th>\n",
       "      <th>P1</th>\n",
       "      <th>A2</th>\n",
       "      <th>P2</th>\n",
       "      <th>A3</th>\n",
       "      <th>P3</th>\n",
       "      <th>A4</th>\n",
       "      <th>P4</th>\n",
       "      <th>...</th>\n",
       "      <th>A48</th>\n",
       "      <th>P48</th>\n",
       "      <th>A49</th>\n",
       "      <th>P49</th>\n",
       "      <th>A50</th>\n",
       "      <th>P50</th>\n",
       "      <th>A51</th>\n",
       "      <th>P51</th>\n",
       "      <th>A52</th>\n",
       "      <th>P52</th>\n",
       "    </tr>\n",
       "  </thead>\n",
       "  <tbody>\n",
       "    <tr>\n",
       "      <th>0</th>\n",
       "      <td>applause</td>\n",
       "      <td>-73</td>\n",
       "      <td>0</td>\n",
       "      <td>-13</td>\n",
       "      <td>-1</td>\n",
       "      <td>-14</td>\n",
       "      <td>-2</td>\n",
       "      <td>-15</td>\n",
       "      <td>-2</td>\n",
       "      <td>-15</td>\n",
       "      <td>...</td>\n",
       "      <td>-5</td>\n",
       "      <td>-15</td>\n",
       "      <td>-5</td>\n",
       "      <td>-15</td>\n",
       "      <td>-5</td>\n",
       "      <td>-16</td>\n",
       "      <td>-4</td>\n",
       "      <td>-15</td>\n",
       "      <td>-4</td>\n",
       "      <td>-14</td>\n",
       "    </tr>\n",
       "    <tr>\n",
       "      <th>1</th>\n",
       "      <td>applause</td>\n",
       "      <td>-72</td>\n",
       "      <td>-8</td>\n",
       "      <td>-13</td>\n",
       "      <td>-9</td>\n",
       "      <td>-13</td>\n",
       "      <td>-9</td>\n",
       "      <td>-13</td>\n",
       "      <td>-9</td>\n",
       "      <td>-13</td>\n",
       "      <td>...</td>\n",
       "      <td>-15</td>\n",
       "      <td>-9</td>\n",
       "      <td>-15</td>\n",
       "      <td>-10</td>\n",
       "      <td>-14</td>\n",
       "      <td>-10</td>\n",
       "      <td>-13</td>\n",
       "      <td>-10</td>\n",
       "      <td>-13</td>\n",
       "      <td>-10</td>\n",
       "    </tr>\n",
       "    <tr>\n",
       "      <th>2</th>\n",
       "      <td>applause</td>\n",
       "      <td>-73</td>\n",
       "      <td>4</td>\n",
       "      <td>-14</td>\n",
       "      <td>4</td>\n",
       "      <td>-14</td>\n",
       "      <td>4</td>\n",
       "      <td>-15</td>\n",
       "      <td>4</td>\n",
       "      <td>-16</td>\n",
       "      <td>...</td>\n",
       "      <td>0</td>\n",
       "      <td>-17</td>\n",
       "      <td>1</td>\n",
       "      <td>-18</td>\n",
       "      <td>1</td>\n",
       "      <td>-18</td>\n",
       "      <td>2</td>\n",
       "      <td>-16</td>\n",
       "      <td>2</td>\n",
       "      <td>-16</td>\n",
       "    </tr>\n",
       "    <tr>\n",
       "      <th>3</th>\n",
       "      <td>applause</td>\n",
       "      <td>-73</td>\n",
       "      <td>16</td>\n",
       "      <td>-4</td>\n",
       "      <td>15</td>\n",
       "      <td>-5</td>\n",
       "      <td>15</td>\n",
       "      <td>-6</td>\n",
       "      <td>15</td>\n",
       "      <td>-6</td>\n",
       "      <td>...</td>\n",
       "      <td>14</td>\n",
       "      <td>-12</td>\n",
       "      <td>14</td>\n",
       "      <td>-12</td>\n",
       "      <td>14</td>\n",
       "      <td>-12</td>\n",
       "      <td>15</td>\n",
       "      <td>-11</td>\n",
       "      <td>16</td>\n",
       "      <td>-10</td>\n",
       "    </tr>\n",
       "    <tr>\n",
       "      <th>4</th>\n",
       "      <td>applause</td>\n",
       "      <td>-72</td>\n",
       "      <td>-8</td>\n",
       "      <td>12</td>\n",
       "      <td>-8</td>\n",
       "      <td>12</td>\n",
       "      <td>-8</td>\n",
       "      <td>13</td>\n",
       "      <td>-8</td>\n",
       "      <td>13</td>\n",
       "      <td>...</td>\n",
       "      <td>-3</td>\n",
       "      <td>16</td>\n",
       "      <td>-4</td>\n",
       "      <td>16</td>\n",
       "      <td>-5</td>\n",
       "      <td>15</td>\n",
       "      <td>-5</td>\n",
       "      <td>14</td>\n",
       "      <td>-5</td>\n",
       "      <td>15</td>\n",
       "    </tr>\n",
       "  </tbody>\n",
       "</table>\n",
       "<p>5 rows × 106 columns</p>\n",
       "</div>"
      ],
      "text/plain": [
       "      taget  rssi  A1  P1  A2  P2  A3  P3  A4  P4  ...  A48  P48  A49  P49  \\\n",
       "0  applause   -73   0 -13  -1 -14  -2 -15  -2 -15  ...   -5  -15   -5  -15   \n",
       "1  applause   -72  -8 -13  -9 -13  -9 -13  -9 -13  ...  -15   -9  -15  -10   \n",
       "2  applause   -73   4 -14   4 -14   4 -15   4 -16  ...    0  -17    1  -18   \n",
       "3  applause   -73  16  -4  15  -5  15  -6  15  -6  ...   14  -12   14  -12   \n",
       "4  applause   -72  -8  12  -8  12  -8  13  -8  13  ...   -3   16   -4   16   \n",
       "\n",
       "   A50  P50  A51  P51  A52  P52  \n",
       "0   -5  -16   -4  -15   -4  -14  \n",
       "1  -14  -10  -13  -10  -13  -10  \n",
       "2    1  -18    2  -16    2  -16  \n",
       "3   14  -12   15  -11   16  -10  \n",
       "4   -5   15   -5   14   -5   15  \n",
       "\n",
       "[5 rows x 106 columns]"
      ]
     },
     "execution_count": 3,
     "metadata": {},
     "output_type": "execute_result"
    }
   ],
   "source": [
    "data = pd.concat([data1,data2,data3,data4])\n",
    "data.head()"
   ]
  },
  {
   "cell_type": "code",
   "execution_count": null,
   "metadata": {},
   "outputs": [],
   "source": []
  },
  {
   "cell_type": "code",
   "execution_count": 4,
   "metadata": {},
   "outputs": [],
   "source": [
    "X = data[['rssi', 'A1', 'P1']].values\n",
    "y = data[['taget']].values\n"
   ]
  },
  {
   "cell_type": "code",
   "execution_count": 5,
   "metadata": {},
   "outputs": [],
   "source": [
    "X_train, X_test, y_train, y_test = train_test_split(X, y, test_size=0.01, random_state=1)\n"
   ]
  },
  {
   "cell_type": "code",
   "execution_count": 6,
   "metadata": {},
   "outputs": [
    {
     "name": "stderr",
     "output_type": "stream",
     "text": [
      "c:\\Users\\abdul\\Projects\\har-tensorflow\\senior-design\\lib\\site-packages\\sklearn\\preprocessing\\_label.py:116: DataConversionWarning: A column-vector y was passed when a 1d array was expected. Please change the shape of y to (n_samples, ), for example using ravel().\n",
      "  y = column_or_1d(y, warn=True)\n"
     ]
    }
   ],
   "source": [
    "scaler = StandardScaler()\n",
    "X_train = scaler.fit_transform(X_train)\n",
    "X_test = scaler.fit_transform(X_test)\n",
    "\n",
    "encoder = LabelEncoder()\n",
    "y_train = encoder.fit_transform(y_train)\n",
    "y_test = encoder.fit_transform(y_test)"
   ]
  },
  {
   "cell_type": "code",
   "execution_count": 7,
   "metadata": {},
   "outputs": [],
   "source": [
    "classifier = KNeighborsClassifier(n_neighbors=5, metric='minkowski')\n"
   ]
  },
  {
   "cell_type": "code",
   "execution_count": 8,
   "metadata": {},
   "outputs": [
    {
     "data": {
      "text/html": [
       "<style>#sk-container-id-1 {color: black;background-color: white;}#sk-container-id-1 pre{padding: 0;}#sk-container-id-1 div.sk-toggleable {background-color: white;}#sk-container-id-1 label.sk-toggleable__label {cursor: pointer;display: block;width: 100%;margin-bottom: 0;padding: 0.3em;box-sizing: border-box;text-align: center;}#sk-container-id-1 label.sk-toggleable__label-arrow:before {content: \"▸\";float: left;margin-right: 0.25em;color: #696969;}#sk-container-id-1 label.sk-toggleable__label-arrow:hover:before {color: black;}#sk-container-id-1 div.sk-estimator:hover label.sk-toggleable__label-arrow:before {color: black;}#sk-container-id-1 div.sk-toggleable__content {max-height: 0;max-width: 0;overflow: hidden;text-align: left;background-color: #f0f8ff;}#sk-container-id-1 div.sk-toggleable__content pre {margin: 0.2em;color: black;border-radius: 0.25em;background-color: #f0f8ff;}#sk-container-id-1 input.sk-toggleable__control:checked~div.sk-toggleable__content {max-height: 200px;max-width: 100%;overflow: auto;}#sk-container-id-1 input.sk-toggleable__control:checked~label.sk-toggleable__label-arrow:before {content: \"▾\";}#sk-container-id-1 div.sk-estimator input.sk-toggleable__control:checked~label.sk-toggleable__label {background-color: #d4ebff;}#sk-container-id-1 div.sk-label input.sk-toggleable__control:checked~label.sk-toggleable__label {background-color: #d4ebff;}#sk-container-id-1 input.sk-hidden--visually {border: 0;clip: rect(1px 1px 1px 1px);clip: rect(1px, 1px, 1px, 1px);height: 1px;margin: -1px;overflow: hidden;padding: 0;position: absolute;width: 1px;}#sk-container-id-1 div.sk-estimator {font-family: monospace;background-color: #f0f8ff;border: 1px dotted black;border-radius: 0.25em;box-sizing: border-box;margin-bottom: 0.5em;}#sk-container-id-1 div.sk-estimator:hover {background-color: #d4ebff;}#sk-container-id-1 div.sk-parallel-item::after {content: \"\";width: 100%;border-bottom: 1px solid gray;flex-grow: 1;}#sk-container-id-1 div.sk-label:hover label.sk-toggleable__label {background-color: #d4ebff;}#sk-container-id-1 div.sk-serial::before {content: \"\";position: absolute;border-left: 1px solid gray;box-sizing: border-box;top: 0;bottom: 0;left: 50%;z-index: 0;}#sk-container-id-1 div.sk-serial {display: flex;flex-direction: column;align-items: center;background-color: white;padding-right: 0.2em;padding-left: 0.2em;position: relative;}#sk-container-id-1 div.sk-item {position: relative;z-index: 1;}#sk-container-id-1 div.sk-parallel {display: flex;align-items: stretch;justify-content: center;background-color: white;position: relative;}#sk-container-id-1 div.sk-item::before, #sk-container-id-1 div.sk-parallel-item::before {content: \"\";position: absolute;border-left: 1px solid gray;box-sizing: border-box;top: 0;bottom: 0;left: 50%;z-index: -1;}#sk-container-id-1 div.sk-parallel-item {display: flex;flex-direction: column;z-index: 1;position: relative;background-color: white;}#sk-container-id-1 div.sk-parallel-item:first-child::after {align-self: flex-end;width: 50%;}#sk-container-id-1 div.sk-parallel-item:last-child::after {align-self: flex-start;width: 50%;}#sk-container-id-1 div.sk-parallel-item:only-child::after {width: 0;}#sk-container-id-1 div.sk-dashed-wrapped {border: 1px dashed gray;margin: 0 0.4em 0.5em 0.4em;box-sizing: border-box;padding-bottom: 0.4em;background-color: white;}#sk-container-id-1 div.sk-label label {font-family: monospace;font-weight: bold;display: inline-block;line-height: 1.2em;}#sk-container-id-1 div.sk-label-container {text-align: center;}#sk-container-id-1 div.sk-container {/* jupyter's `normalize.less` sets `[hidden] { display: none; }` but bootstrap.min.css set `[hidden] { display: none !important; }` so we also need the `!important` here to be able to override the default hidden behavior on the sphinx rendered scikit-learn.org. See: https://github.com/scikit-learn/scikit-learn/issues/21755 */display: inline-block !important;position: relative;}#sk-container-id-1 div.sk-text-repr-fallback {display: none;}</style><div id=\"sk-container-id-1\" class=\"sk-top-container\"><div class=\"sk-text-repr-fallback\"><pre>KNeighborsClassifier()</pre><b>In a Jupyter environment, please rerun this cell to show the HTML representation or trust the notebook. <br />On GitHub, the HTML representation is unable to render, please try loading this page with nbviewer.org.</b></div><div class=\"sk-container\" hidden><div class=\"sk-item\"><div class=\"sk-estimator sk-toggleable\"><input class=\"sk-toggleable__control sk-hidden--visually\" id=\"sk-estimator-id-1\" type=\"checkbox\" checked><label for=\"sk-estimator-id-1\" class=\"sk-toggleable__label sk-toggleable__label-arrow\">KNeighborsClassifier</label><div class=\"sk-toggleable__content\"><pre>KNeighborsClassifier()</pre></div></div></div></div></div>"
      ],
      "text/plain": [
       "KNeighborsClassifier()"
      ]
     },
     "execution_count": 8,
     "metadata": {},
     "output_type": "execute_result"
    }
   ],
   "source": [
    "# Model Training\n",
    "classifier.fit(X_train, y_train)"
   ]
  },
  {
   "cell_type": "code",
   "execution_count": 9,
   "metadata": {},
   "outputs": [],
   "source": [
    "y_pred = classifier.predict(X_test)\n"
   ]
  },
  {
   "cell_type": "code",
   "execution_count": 12,
   "metadata": {},
   "outputs": [],
   "source": [
    "new_prediction = classifier.predict(scaler.transform(np.array([[-70,0,1]])))\n"
   ]
  },
  {
   "cell_type": "code",
   "execution_count": 13,
   "metadata": {},
   "outputs": [],
   "source": [
    "model_file = 'classifier.pickle'\n",
    "pickle.dump(classifier, open(model_file, 'wb'))\n",
    "\n",
    "scaler_file = 'scaler.pickle'\n",
    "pickle.dump(scaler, open(scaler_file, 'wb'))"
   ]
  }
 ],
 "metadata": {
  "kernelspec": {
   "display_name": "senior-design",
   "language": "python",
   "name": "python3"
  },
  "language_info": {
   "codemirror_mode": {
    "name": "ipython",
    "version": 3
   },
   "file_extension": ".py",
   "mimetype": "text/x-python",
   "name": "python",
   "nbconvert_exporter": "python",
   "pygments_lexer": "ipython3",
   "version": "3.10.7"
  },
  "orig_nbformat": 4,
  "vscode": {
   "interpreter": {
    "hash": "f03a25c747c3d4cb159d4fc5dcb451f51928afdc4a9bfdc99a05ae0b7a6b96ad"
   }
  }
 },
 "nbformat": 4,
 "nbformat_minor": 2
}
