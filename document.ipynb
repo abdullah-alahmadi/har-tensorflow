{
 "cells": [
  {
   "cell_type": "code",
   "execution_count": 119,
   "metadata": {
    "pycharm": {
     "is_executing": true
    }
   },
   "outputs": [],
   "source": [
    "import pandas as pd\n",
    "from sklearn.model_selection import train_test_split\n",
    "from sklearn.preprocessing import LabelEncoder\n",
    "from sklearn.preprocessing import MinMaxScaler\n",
    "import tensorflow as tf\n",
    "import matplotlib.pyplot as plt"
   ]
  },
  {
   "cell_type": "code",
   "execution_count": 3,
   "metadata": {
    "pycharm": {
     "is_executing": true
    }
   },
   "outputs": [],
   "source": [
    "data1 = pd.read_csv('data/data1.csv')\n",
    "data2 = pd.read_csv('data/data2.csv')\n",
    "data3 = pd.read_csv('data/data3.csv')\n",
    "data4 = pd.read_csv('data/data4.csv')"
   ]
  },
  {
   "cell_type": "code",
   "execution_count": 4,
   "metadata": {},
   "outputs": [],
   "source": [
    "data = pd.concat([data1, data2, data3, data4])"
   ]
  },
  {
   "cell_type": "code",
   "execution_count": 5,
   "metadata": {},
   "outputs": [
    {
     "data": {
      "text/plain": [
       "Index(['taget', 'rssi', 'A1', 'P1', 'A2', 'P2', 'A3', 'P3', 'A4', 'P4',\n",
       "       ...\n",
       "       'A48', 'P48', 'A49', 'P49', 'A50', 'P50', 'A51', 'P51', 'A52', 'P52'],\n",
       "      dtype='object', length=106)"
      ]
     },
     "execution_count": 5,
     "metadata": {},
     "output_type": "execute_result"
    }
   ],
   "source": [
    "data.columns"
   ]
  },
  {
   "cell_type": "code",
   "execution_count": 6,
   "metadata": {},
   "outputs": [
    {
     "data": {
      "text/plain": [
       "array(['applause', 'go', 'jump', 'wave'], dtype=object)"
      ]
     },
     "execution_count": 6,
     "metadata": {},
     "output_type": "execute_result"
    }
   ],
   "source": [
    "data['taget'].unique()"
   ]
  },
  {
   "cell_type": "code",
   "execution_count": 7,
   "metadata": {},
   "outputs": [],
   "source": [
    "x_df = data.drop(columns=['taget'])\n",
    "y_df = data.pop('taget')"
   ]
  },
  {
   "cell_type": "code",
   "execution_count": 8,
   "metadata": {},
   "outputs": [
    {
     "data": {
      "text/plain": [
       "(1442,)"
      ]
     },
     "execution_count": 8,
     "metadata": {},
     "output_type": "execute_result"
    }
   ],
   "source": [
    "y_df.shape"
   ]
  },
  {
   "cell_type": "code",
   "execution_count": 9,
   "metadata": {},
   "outputs": [],
   "source": [
    "X_train, X_test, Y_train, Y_test = train_test_split(x_df,y_df, random_state=1)"
   ]
  },
  {
   "cell_type": "code",
   "execution_count": 10,
   "metadata": {},
   "outputs": [
    {
     "data": {
      "text/plain": [
       "(1081, 105)"
      ]
     },
     "execution_count": 10,
     "metadata": {},
     "output_type": "execute_result"
    }
   ],
   "source": [
    "X_train.shape"
   ]
  },
  {
   "cell_type": "code",
   "execution_count": 11,
   "metadata": {},
   "outputs": [
    {
     "data": {
      "text/plain": [
       "(1081,)"
      ]
     },
     "execution_count": 11,
     "metadata": {},
     "output_type": "execute_result"
    }
   ],
   "source": [
    "Y_train.shape"
   ]
  },
  {
   "cell_type": "code",
   "execution_count": 12,
   "metadata": {},
   "outputs": [
    {
     "data": {
      "text/plain": [
       "(361, 105)"
      ]
     },
     "execution_count": 12,
     "metadata": {},
     "output_type": "execute_result"
    }
   ],
   "source": [
    "X_test.shape"
   ]
  },
  {
   "cell_type": "code",
   "execution_count": 56,
   "metadata": {},
   "outputs": [
    {
     "name": "stdout",
     "output_type": "stream",
     "text": [
      "(1081,)\n",
      "(361,)\n"
     ]
    }
   ],
   "source": [
    "encoder = LabelEncoder()\n",
    "y_train = encoder.fit_transform(Y_train)\n",
    "y_test = encoder.fit_transform(Y_test)\n",
    "\n",
    "print(y_train.shape)\n",
    "print(y_test.shape)"
   ]
  },
  {
   "cell_type": "code",
   "execution_count": 57,
   "metadata": {},
   "outputs": [
    {
     "name": "stdout",
     "output_type": "stream",
     "text": [
      "(1081, 105)\n",
      "(361, 105)\n"
     ]
    }
   ],
   "source": [
    "scaler = MinMaxScaler()\n",
    "x_train = scaler.fit_transform(X_train)\n",
    "x_test = scaler.fit_transform(X_test)\n",
    "\n",
    "print(x_train.shape)\n",
    "print(x_test.shape)"
   ]
  },
  {
   "cell_type": "code",
   "execution_count": 104,
   "metadata": {},
   "outputs": [],
   "source": [
    "model = tf.keras.models.Sequential()\n",
    "model.add(tf.keras.layers.Dense(105, activation='relu'))\n",
    "model.add(tf.keras.layers.Dense(64, activation='relu'))\n",
    "model.add(tf.keras.layers.Dense(32, activation='relu'))\n",
    "model.add(tf.keras.layers.Dense(4, activation='softmax'))"
   ]
  },
  {
   "cell_type": "code",
   "execution_count": 105,
   "metadata": {},
   "outputs": [],
   "source": [
    "model.compile(optimizer='adam', loss=tf.keras.losses.SparseCategoricalCrossentropy(),metrics=['accuracy'])"
   ]
  },
  {
   "cell_type": "code",
   "execution_count": 117,
   "metadata": {},
   "outputs": [
    {
     "name": "stdout",
     "output_type": "stream",
     "text": [
      "Epoch 1/100\n",
      "541/541 [==============================] - 1s 1ms/step - loss: 0.2577 - accuracy: 0.9140 - val_loss: 0.4075 - val_accuracy: 0.8476\n",
      "Epoch 2/100\n",
      "541/541 [==============================] - 1s 1ms/step - loss: 0.2376 - accuracy: 0.9130 - val_loss: 1.2262 - val_accuracy: 0.6066\n",
      "Epoch 3/100\n",
      "541/541 [==============================] - 1s 1ms/step - loss: 0.2666 - accuracy: 0.9001 - val_loss: 0.6068 - val_accuracy: 0.7978\n",
      "Epoch 4/100\n",
      "541/541 [==============================] - 1s 2ms/step - loss: 0.2322 - accuracy: 0.9029 - val_loss: 1.2919 - val_accuracy: 0.6454\n",
      "Epoch 5/100\n",
      "541/541 [==============================] - 1s 1ms/step - loss: 0.2760 - accuracy: 0.9038 - val_loss: 0.9498 - val_accuracy: 0.6427\n",
      "Epoch 6/100\n",
      "541/541 [==============================] - 1s 1ms/step - loss: 0.3073 - accuracy: 0.8797 - val_loss: 0.3904 - val_accuracy: 0.8421\n",
      "Epoch 7/100\n",
      "541/541 [==============================] - 1s 1ms/step - loss: 0.2164 - accuracy: 0.9121 - val_loss: 0.5551 - val_accuracy: 0.7895\n",
      "Epoch 8/100\n",
      "541/541 [==============================] - 1s 1ms/step - loss: 0.2550 - accuracy: 0.9075 - val_loss: 0.4767 - val_accuracy: 0.8089\n",
      "Epoch 9/100\n",
      "541/541 [==============================] - 1s 1ms/step - loss: 0.2572 - accuracy: 0.9103 - val_loss: 0.4477 - val_accuracy: 0.8227\n",
      "Epoch 10/100\n",
      "541/541 [==============================] - 1s 1ms/step - loss: 0.2642 - accuracy: 0.8992 - val_loss: 0.4817 - val_accuracy: 0.8006\n",
      "Epoch 11/100\n",
      "541/541 [==============================] - 1s 1ms/step - loss: 0.2550 - accuracy: 0.8982 - val_loss: 0.3534 - val_accuracy: 0.8670\n",
      "Epoch 12/100\n",
      "541/541 [==============================] - 1s 1ms/step - loss: 0.2502 - accuracy: 0.9001 - val_loss: 0.6829 - val_accuracy: 0.7562\n",
      "Epoch 13/100\n",
      "541/541 [==============================] - 1s 1ms/step - loss: 0.2434 - accuracy: 0.9038 - val_loss: 0.7983 - val_accuracy: 0.7064\n",
      "Epoch 14/100\n",
      "541/541 [==============================] - 1s 1ms/step - loss: 0.2611 - accuracy: 0.9019 - val_loss: 0.4580 - val_accuracy: 0.8615\n",
      "Epoch 15/100\n",
      "541/541 [==============================] - 1s 1ms/step - loss: 0.2013 - accuracy: 0.9297 - val_loss: 1.2323 - val_accuracy: 0.5845\n",
      "Epoch 16/100\n",
      "541/541 [==============================] - 1s 1ms/step - loss: 0.2245 - accuracy: 0.9167 - val_loss: 0.4734 - val_accuracy: 0.8421\n",
      "Epoch 17/100\n",
      "541/541 [==============================] - 1s 1ms/step - loss: 0.2112 - accuracy: 0.9140 - val_loss: 0.5853 - val_accuracy: 0.7839\n",
      "Epoch 18/100\n",
      "541/541 [==============================] - 1s 1ms/step - loss: 0.2396 - accuracy: 0.9149 - val_loss: 0.4384 - val_accuracy: 0.8338\n",
      "Epoch 19/100\n",
      "541/541 [==============================] - 1s 1ms/step - loss: 0.2611 - accuracy: 0.9140 - val_loss: 0.3944 - val_accuracy: 0.8476\n",
      "Epoch 20/100\n",
      "541/541 [==============================] - 1s 1ms/step - loss: 0.2095 - accuracy: 0.9223 - val_loss: 0.3045 - val_accuracy: 0.8975\n",
      "Epoch 21/100\n",
      "541/541 [==============================] - 1s 1ms/step - loss: 0.1746 - accuracy: 0.9371 - val_loss: 0.4966 - val_accuracy: 0.8144\n",
      "Epoch 22/100\n",
      "541/541 [==============================] - 1s 1ms/step - loss: 0.1625 - accuracy: 0.9417 - val_loss: 0.5532 - val_accuracy: 0.8089\n",
      "Epoch 23/100\n",
      "541/541 [==============================] - 1s 1ms/step - loss: 0.2330 - accuracy: 0.9167 - val_loss: 0.5338 - val_accuracy: 0.7978\n",
      "Epoch 24/100\n",
      "541/541 [==============================] - 1s 1ms/step - loss: 0.1844 - accuracy: 0.9325 - val_loss: 0.4884 - val_accuracy: 0.8310\n",
      "Epoch 25/100\n",
      "541/541 [==============================] - 1s 1ms/step - loss: 0.2315 - accuracy: 0.9186 - val_loss: 0.7984 - val_accuracy: 0.7950\n",
      "Epoch 26/100\n",
      "541/541 [==============================] - 1s 1ms/step - loss: 0.1388 - accuracy: 0.9491 - val_loss: 0.5440 - val_accuracy: 0.8061\n",
      "Epoch 27/100\n",
      "541/541 [==============================] - 1s 1ms/step - loss: 0.2025 - accuracy: 0.9297 - val_loss: 0.3698 - val_accuracy: 0.8753\n",
      "Epoch 28/100\n",
      "541/541 [==============================] - 1s 1ms/step - loss: 0.1955 - accuracy: 0.9343 - val_loss: 0.6905 - val_accuracy: 0.7673\n",
      "Epoch 29/100\n",
      "541/541 [==============================] - 1s 1ms/step - loss: 0.1732 - accuracy: 0.9278 - val_loss: 1.0685 - val_accuracy: 0.7673\n",
      "Epoch 30/100\n",
      "541/541 [==============================] - 1s 1ms/step - loss: 0.1746 - accuracy: 0.9260 - val_loss: 0.4989 - val_accuracy: 0.7895\n",
      "Epoch 31/100\n",
      "541/541 [==============================] - 1s 1ms/step - loss: 0.1674 - accuracy: 0.9362 - val_loss: 0.2822 - val_accuracy: 0.9086\n",
      "Epoch 32/100\n",
      "541/541 [==============================] - 1s 1ms/step - loss: 0.1939 - accuracy: 0.9343 - val_loss: 0.8015 - val_accuracy: 0.7618\n",
      "Epoch 33/100\n",
      "541/541 [==============================] - 1s 1ms/step - loss: 0.2583 - accuracy: 0.9084 - val_loss: 0.6189 - val_accuracy: 0.7036\n",
      "Epoch 34/100\n",
      "541/541 [==============================] - 1s 1ms/step - loss: 0.1715 - accuracy: 0.9334 - val_loss: 0.6771 - val_accuracy: 0.7535\n",
      "Epoch 35/100\n",
      "541/541 [==============================] - 1s 1ms/step - loss: 0.2181 - accuracy: 0.9241 - val_loss: 0.4616 - val_accuracy: 0.8310\n",
      "Epoch 36/100\n",
      "541/541 [==============================] - 1s 1ms/step - loss: 0.2096 - accuracy: 0.9241 - val_loss: 0.5210 - val_accuracy: 0.8199\n",
      "Epoch 37/100\n",
      "541/541 [==============================] - 1s 1ms/step - loss: 0.1695 - accuracy: 0.9426 - val_loss: 0.4186 - val_accuracy: 0.8587\n",
      "Epoch 38/100\n",
      "541/541 [==============================] - 1s 1ms/step - loss: 0.1547 - accuracy: 0.9371 - val_loss: 0.7005 - val_accuracy: 0.7729\n",
      "Epoch 39/100\n",
      "541/541 [==============================] - 1s 1ms/step - loss: 0.1824 - accuracy: 0.9306 - val_loss: 0.4932 - val_accuracy: 0.8199\n",
      "Epoch 40/100\n",
      "541/541 [==============================] - 1s 1ms/step - loss: 0.1736 - accuracy: 0.9343 - val_loss: 0.7121 - val_accuracy: 0.7756\n",
      "Epoch 41/100\n",
      "541/541 [==============================] - 1s 1ms/step - loss: 0.1854 - accuracy: 0.9306 - val_loss: 0.8251 - val_accuracy: 0.7479\n",
      "Epoch 42/100\n",
      "541/541 [==============================] - 1s 1ms/step - loss: 0.2288 - accuracy: 0.9288 - val_loss: 0.3218 - val_accuracy: 0.8864\n",
      "Epoch 43/100\n",
      "541/541 [==============================] - 1s 1ms/step - loss: 0.1348 - accuracy: 0.9556 - val_loss: 0.3920 - val_accuracy: 0.8421\n",
      "Epoch 44/100\n",
      "541/541 [==============================] - 1s 1ms/step - loss: 0.1867 - accuracy: 0.9278 - val_loss: 0.4658 - val_accuracy: 0.8393\n",
      "Epoch 45/100\n",
      "541/541 [==============================] - 1s 1ms/step - loss: 0.1535 - accuracy: 0.9436 - val_loss: 0.6619 - val_accuracy: 0.7535\n",
      "Epoch 46/100\n",
      "541/541 [==============================] - 1s 1ms/step - loss: 0.1588 - accuracy: 0.9417 - val_loss: 0.8539 - val_accuracy: 0.8061\n",
      "Epoch 47/100\n",
      "541/541 [==============================] - 1s 1ms/step - loss: 0.1949 - accuracy: 0.9251 - val_loss: 0.5185 - val_accuracy: 0.8116\n",
      "Epoch 48/100\n",
      "541/541 [==============================] - 1s 1ms/step - loss: 0.2174 - accuracy: 0.9241 - val_loss: 1.9308 - val_accuracy: 0.5568\n",
      "Epoch 49/100\n",
      "541/541 [==============================] - 1s 1ms/step - loss: 0.1477 - accuracy: 0.9399 - val_loss: 0.8655 - val_accuracy: 0.7645\n",
      "Epoch 50/100\n",
      "541/541 [==============================] - 1s 1ms/step - loss: 0.1364 - accuracy: 0.9510 - val_loss: 1.1207 - val_accuracy: 0.7175\n",
      "Epoch 51/100\n",
      "541/541 [==============================] - 1s 1ms/step - loss: 0.1667 - accuracy: 0.9417 - val_loss: 0.7677 - val_accuracy: 0.7867\n",
      "Epoch 52/100\n",
      "541/541 [==============================] - 1s 1ms/step - loss: 0.1604 - accuracy: 0.9408 - val_loss: 0.5564 - val_accuracy: 0.8255\n",
      "Epoch 53/100\n",
      "541/541 [==============================] - 1s 1ms/step - loss: 0.1440 - accuracy: 0.9454 - val_loss: 0.6616 - val_accuracy: 0.7673\n",
      "Epoch 54/100\n",
      "541/541 [==============================] - 1s 1ms/step - loss: 0.1415 - accuracy: 0.9463 - val_loss: 1.0333 - val_accuracy: 0.7618\n",
      "Epoch 55/100\n",
      "541/541 [==============================] - 1s 2ms/step - loss: 0.1487 - accuracy: 0.9408 - val_loss: 1.2438 - val_accuracy: 0.6925\n",
      "Epoch 56/100\n",
      "541/541 [==============================] - 1s 1ms/step - loss: 0.1878 - accuracy: 0.9251 - val_loss: 0.5583 - val_accuracy: 0.8089\n",
      "Epoch 57/100\n",
      "541/541 [==============================] - 1s 1ms/step - loss: 0.1242 - accuracy: 0.9547 - val_loss: 0.7646 - val_accuracy: 0.7230\n",
      "Epoch 58/100\n",
      "541/541 [==============================] - 1s 1ms/step - loss: 0.1602 - accuracy: 0.9426 - val_loss: 0.3643 - val_accuracy: 0.8864\n",
      "Epoch 59/100\n",
      "541/541 [==============================] - 1s 1ms/step - loss: 0.1411 - accuracy: 0.9463 - val_loss: 0.3909 - val_accuracy: 0.8837\n",
      "Epoch 60/100\n",
      "541/541 [==============================] - 1s 1ms/step - loss: 0.1970 - accuracy: 0.9306 - val_loss: 0.9199 - val_accuracy: 0.6731\n",
      "Epoch 61/100\n",
      "541/541 [==============================] - 1s 1ms/step - loss: 0.1230 - accuracy: 0.9565 - val_loss: 0.5793 - val_accuracy: 0.8366\n",
      "Epoch 62/100\n",
      "541/541 [==============================] - 1s 1ms/step - loss: 0.1359 - accuracy: 0.9519 - val_loss: 0.6327 - val_accuracy: 0.8033\n",
      "Epoch 63/100\n",
      "541/541 [==============================] - 1s 1ms/step - loss: 0.1551 - accuracy: 0.9408 - val_loss: 0.4371 - val_accuracy: 0.8532\n",
      "Epoch 64/100\n",
      "541/541 [==============================] - 1s 1ms/step - loss: 0.1485 - accuracy: 0.9454 - val_loss: 1.4972 - val_accuracy: 0.6343\n",
      "Epoch 65/100\n",
      "541/541 [==============================] - 1s 1ms/step - loss: 0.1579 - accuracy: 0.9445 - val_loss: 0.4654 - val_accuracy: 0.8504\n",
      "Epoch 66/100\n",
      "541/541 [==============================] - 1s 1ms/step - loss: 0.1329 - accuracy: 0.9556 - val_loss: 0.2584 - val_accuracy: 0.9224\n",
      "Epoch 67/100\n",
      "541/541 [==============================] - 1s 1ms/step - loss: 0.1780 - accuracy: 0.9371 - val_loss: 0.5496 - val_accuracy: 0.8615\n",
      "Epoch 68/100\n",
      "541/541 [==============================] - 1s 1ms/step - loss: 0.1340 - accuracy: 0.9510 - val_loss: 0.8519 - val_accuracy: 0.7424\n",
      "Epoch 69/100\n",
      "541/541 [==============================] - 1s 1ms/step - loss: 0.1507 - accuracy: 0.9454 - val_loss: 1.0795 - val_accuracy: 0.6759\n",
      "Epoch 70/100\n",
      "541/541 [==============================] - 1s 1ms/step - loss: 0.1499 - accuracy: 0.9473 - val_loss: 0.4484 - val_accuracy: 0.8587\n",
      "Epoch 71/100\n",
      "541/541 [==============================] - 1s 1ms/step - loss: 0.1978 - accuracy: 0.9352 - val_loss: 0.3575 - val_accuracy: 0.8781\n",
      "Epoch 72/100\n",
      "541/541 [==============================] - 1s 1ms/step - loss: 0.1753 - accuracy: 0.9389 - val_loss: 0.4750 - val_accuracy: 0.8587\n",
      "Epoch 73/100\n",
      "541/541 [==============================] - 1s 1ms/step - loss: 0.1451 - accuracy: 0.9454 - val_loss: 0.6984 - val_accuracy: 0.7618\n",
      "Epoch 74/100\n",
      "541/541 [==============================] - 1s 2ms/step - loss: 0.2009 - accuracy: 0.9269 - val_loss: 0.4426 - val_accuracy: 0.8532\n",
      "Epoch 75/100\n",
      "541/541 [==============================] - 1s 1ms/step - loss: 0.1172 - accuracy: 0.9565 - val_loss: 0.6701 - val_accuracy: 0.8366\n",
      "Epoch 76/100\n",
      "541/541 [==============================] - 1s 1ms/step - loss: 0.1247 - accuracy: 0.9556 - val_loss: 0.5973 - val_accuracy: 0.8366\n",
      "Epoch 77/100\n",
      "541/541 [==============================] - 1s 1ms/step - loss: 0.1774 - accuracy: 0.9417 - val_loss: 0.5620 - val_accuracy: 0.8033\n",
      "Epoch 78/100\n",
      "541/541 [==============================] - 1s 1ms/step - loss: 0.1333 - accuracy: 0.9547 - val_loss: 0.9678 - val_accuracy: 0.7424\n",
      "Epoch 79/100\n",
      "541/541 [==============================] - 1s 2ms/step - loss: 0.1875 - accuracy: 0.9362 - val_loss: 0.5262 - val_accuracy: 0.8421\n",
      "Epoch 80/100\n",
      "541/541 [==============================] - 1s 1ms/step - loss: 0.1229 - accuracy: 0.9537 - val_loss: 0.9250 - val_accuracy: 0.7645\n",
      "Epoch 81/100\n",
      "541/541 [==============================] - 1s 1ms/step - loss: 0.1475 - accuracy: 0.9547 - val_loss: 0.5335 - val_accuracy: 0.8366\n",
      "Epoch 82/100\n",
      "541/541 [==============================] - 1s 1ms/step - loss: 0.1086 - accuracy: 0.9685 - val_loss: 0.8889 - val_accuracy: 0.7839\n",
      "Epoch 83/100\n",
      "541/541 [==============================] - 1s 1ms/step - loss: 0.1322 - accuracy: 0.9528 - val_loss: 0.3587 - val_accuracy: 0.8864\n",
      "Epoch 84/100\n",
      "541/541 [==============================] - 1s 1ms/step - loss: 0.1638 - accuracy: 0.9445 - val_loss: 0.3930 - val_accuracy: 0.8753\n",
      "Epoch 85/100\n",
      "541/541 [==============================] - 1s 1ms/step - loss: 0.1382 - accuracy: 0.9491 - val_loss: 0.3983 - val_accuracy: 0.8587\n",
      "Epoch 86/100\n",
      "541/541 [==============================] - 1s 1ms/step - loss: 0.1413 - accuracy: 0.9500 - val_loss: 0.3929 - val_accuracy: 0.8837\n",
      "Epoch 87/100\n",
      "541/541 [==============================] - 1s 1ms/step - loss: 0.1321 - accuracy: 0.9482 - val_loss: 0.4442 - val_accuracy: 0.8587\n",
      "Epoch 88/100\n",
      "541/541 [==============================] - 1s 1ms/step - loss: 0.1072 - accuracy: 0.9630 - val_loss: 1.1673 - val_accuracy: 0.6260\n",
      "Epoch 89/100\n",
      "541/541 [==============================] - 1s 1ms/step - loss: 0.1488 - accuracy: 0.9380 - val_loss: 1.6771 - val_accuracy: 0.6704\n",
      "Epoch 90/100\n",
      "541/541 [==============================] - 1s 1ms/step - loss: 0.1588 - accuracy: 0.9473 - val_loss: 0.6239 - val_accuracy: 0.7673\n",
      "Epoch 91/100\n",
      "541/541 [==============================] - 1s 1ms/step - loss: 0.1731 - accuracy: 0.9343 - val_loss: 2.3805 - val_accuracy: 0.6814\n",
      "Epoch 92/100\n",
      "541/541 [==============================] - 1s 1ms/step - loss: 0.1227 - accuracy: 0.9547 - val_loss: 0.7628 - val_accuracy: 0.7922\n",
      "Epoch 93/100\n",
      "541/541 [==============================] - 1s 1ms/step - loss: 0.0980 - accuracy: 0.9704 - val_loss: 0.8050 - val_accuracy: 0.7784\n",
      "Epoch 94/100\n",
      "541/541 [==============================] - 1s 1ms/step - loss: 0.1087 - accuracy: 0.9630 - val_loss: 0.5600 - val_accuracy: 0.8227\n",
      "Epoch 95/100\n",
      "541/541 [==============================] - 1s 1ms/step - loss: 0.1261 - accuracy: 0.9537 - val_loss: 0.6035 - val_accuracy: 0.8283\n",
      "Epoch 96/100\n",
      "541/541 [==============================] - 1s 1ms/step - loss: 0.1111 - accuracy: 0.9602 - val_loss: 0.3688 - val_accuracy: 0.8587\n",
      "Epoch 97/100\n",
      "541/541 [==============================] - 1s 1ms/step - loss: 0.1046 - accuracy: 0.9658 - val_loss: 0.8118 - val_accuracy: 0.7479\n",
      "Epoch 98/100\n",
      "541/541 [==============================] - 1s 1ms/step - loss: 0.1216 - accuracy: 0.9565 - val_loss: 0.4476 - val_accuracy: 0.8338\n",
      "Epoch 99/100\n",
      "541/541 [==============================] - 1s 1ms/step - loss: 0.1313 - accuracy: 0.9510 - val_loss: 0.7015 - val_accuracy: 0.8199\n",
      "Epoch 100/100\n",
      "541/541 [==============================] - 1s 1ms/step - loss: 0.1407 - accuracy: 0.9584 - val_loss: 0.4998 - val_accuracy: 0.8421\n"
     ]
    }
   ],
   "source": [
    "history = model.fit(x_train, y_train,batch_size = 2, epochs= 100, validation_data=(x_test, y_test))"
   ]
  },
  {
   "cell_type": "code",
   "execution_count": 111,
   "metadata": {},
   "outputs": [
    {
     "name": "stdout",
     "output_type": "stream",
     "text": [
      "Model: \"sequential_18\"\n",
      "_________________________________________________________________\n",
      " Layer (type)                Output Shape              Param #   \n",
      "=================================================================\n",
      " dense_41 (Dense)            (None, 105)               11130     \n",
      "                                                                 \n",
      " dense_42 (Dense)            (None, 64)                6784      \n",
      "                                                                 \n",
      " dense_43 (Dense)            (None, 32)                2080      \n",
      "                                                                 \n",
      " dense_44 (Dense)            (None, 4)                 132       \n",
      "                                                                 \n",
      "=================================================================\n",
      "Total params: 20,126\n",
      "Trainable params: 20,126\n",
      "Non-trainable params: 0\n",
      "_________________________________________________________________\n"
     ]
    }
   ],
   "source": [
    "model.summary()"
   ]
  },
  {
   "cell_type": "code",
   "execution_count": 121,
   "metadata": {},
   "outputs": [],
   "source": [
    "accuracy = history.history['accuracy']"
   ]
  },
  {
   "cell_type": "code",
   "execution_count": 122,
   "metadata": {},
   "outputs": [
    {
     "data": {
      "text/plain": [
       "[<matplotlib.lines.Line2D at 0x184c1e8c1c0>]"
      ]
     },
     "execution_count": 122,
     "metadata": {},
     "output_type": "execute_result"
    },
    {
     "data": {
      "image/png": "[encoded data removed]",
      "text/plain": [
       "<Figure size 640x480 with 1 Axes>"
      ]
     },
     "metadata": {},
     "output_type": "display_data"
    }
   ],
   "source": [
    "plt.plot(accuracy)"
   ]
  }
 ],
 "metadata": {
  "kernelspec": {
   "display_name": "senior-design",
   "language": "python",
   "name": "python3"
  },
  "language_info": {
   "codemirror_mode": {
    "name": "ipython",
    "version": 3
   },
   "file_extension": ".py",
   "mimetype": "text/x-python",
   "name": "python",
   "nbconvert_exporter": "python",
   "pygments_lexer": "ipython3",
   "version": "3.10.4"
  },
  "orig_nbformat": 4,
  "vscode": {
   "interpreter": {
    "hash": "f9de635d5a40a8acf0d3563ac1f467c2a083e6747be1f9ffca366f76a5823d4f"
   }
  }
 },
 "nbformat": 4,
 "nbformat_minor": 2
}
