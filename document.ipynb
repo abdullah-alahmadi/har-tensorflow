{
 "cells": [
  {
   "cell_type": "code",
   "execution_count": 3,
   "metadata": {
    "pycharm": {
     "is_executing": true
    }
   },
   "outputs": [],
   "source": [
    "import pandas as pd\n",
    "from sklearn.model_selection import train_test_split\n",
    "from sklearn.preprocessing import LabelEncoder\n",
    "from sklearn.preprocessing import MinMaxScaler\n",
    "import tensorflow as tf\n",
    "import matplotlib.pyplot as plt\n",
    "from sklearn.metrics import confusion_matrix"
   ]
  },
  {
   "cell_type": "code",
   "execution_count": 11,
   "metadata": {
    "pycharm": {
     "is_executing": true
    }
   },
   "outputs": [],
   "source": [
    "data1 = pd.read_csv('data/data1.csv')\n",
    "data2 = pd.read_csv('data/data2.csv')\n",
    "data3 = pd.read_csv('data/data3.csv')\n",
    "data4 = pd.read_csv('data/data4.csv')"
   ]
  },
  {
   "cell_type": "code",
   "execution_count": 12,
   "metadata": {},
   "outputs": [],
   "source": [
    "data = pd.concat([data1, data2, data3, data4])"
   ]
  },
  {
   "cell_type": "code",
   "execution_count": 13,
   "metadata": {},
   "outputs": [
    {
     "data": {
      "text/plain": [
       "Index(['taget', 'rssi', 'A1', 'P1', 'A2', 'P2', 'A3', 'P3', 'A4', 'P4',\n",
       "       ...\n",
       "       'A48', 'P48', 'A49', 'P49', 'A50', 'P50', 'A51', 'P51', 'A52', 'P52'],\n",
       "      dtype='object', length=106)"
      ]
     },
     "execution_count": 13,
     "metadata": {},
     "output_type": "execute_result"
    }
   ],
   "source": [
    "data.columns"
   ]
  },
  {
   "cell_type": "code",
   "execution_count": 14,
   "metadata": {},
   "outputs": [
    {
     "data": {
      "text/plain": [
       "array(['applause', 'go', 'jump', 'wave'], dtype=object)"
      ]
     },
     "execution_count": 14,
     "metadata": {},
     "output_type": "execute_result"
    }
   ],
   "source": [
    "data['taget'].unique()"
   ]
  },
  {
   "cell_type": "code",
   "execution_count": 15,
   "metadata": {},
   "outputs": [],
   "source": [
    "x_df = data.drop(columns=['taget', 'rssi'])\n",
    "y_df = data.pop('taget')"
   ]
  },
  {
   "cell_type": "code",
   "execution_count": 7,
   "metadata": {},
   "outputs": [
    {
     "data": {
      "text/plain": [
       "(1442,)"
      ]
     },
     "execution_count": 7,
     "metadata": {},
     "output_type": "execute_result"
    }
   ],
   "source": [
    "y_df.shape"
   ]
  },
  {
   "cell_type": "code",
   "execution_count": 16,
   "metadata": {},
   "outputs": [],
   "source": [
    "X_train, X_test, Y_train, Y_test = train_test_split(x_df,y_df, random_state=1)"
   ]
  },
  {
   "cell_type": "code",
   "execution_count": 17,
   "metadata": {},
   "outputs": [
    {
     "data": {
      "text/plain": [
       "(1081, 104)"
      ]
     },
     "execution_count": 17,
     "metadata": {},
     "output_type": "execute_result"
    }
   ],
   "source": [
    "X_train.shape"
   ]
  },
  {
   "cell_type": "code",
   "execution_count": 18,
   "metadata": {},
   "outputs": [
    {
     "data": {
      "text/plain": [
       "(1081,)"
      ]
     },
     "execution_count": 18,
     "metadata": {},
     "output_type": "execute_result"
    }
   ],
   "source": [
    "Y_train.shape"
   ]
  },
  {
   "cell_type": "code",
   "execution_count": 19,
   "metadata": {},
   "outputs": [
    {
     "data": {
      "text/plain": [
       "(361, 104)"
      ]
     },
     "execution_count": 19,
     "metadata": {},
     "output_type": "execute_result"
    }
   ],
   "source": [
    "X_test.shape"
   ]
  },
  {
   "cell_type": "code",
   "execution_count": 20,
   "metadata": {},
   "outputs": [
    {
     "name": "stdout",
     "output_type": "stream",
     "text": [
      "(1081,)\n",
      "(361,)\n"
     ]
    }
   ],
   "source": [
    "encoder = LabelEncoder()\n",
    "y_train = encoder.fit_transform(Y_train)\n",
    "y_test = encoder.fit_transform(Y_test)\n",
    "\n",
    "print(y_train.shape)\n",
    "print(y_test.shape)"
   ]
  },
  {
   "cell_type": "code",
   "execution_count": 21,
   "metadata": {},
   "outputs": [
    {
     "name": "stdout",
     "output_type": "stream",
     "text": [
      "(1081, 104)\n",
      "(361, 104)\n"
     ]
    }
   ],
   "source": [
    "scaler = MinMaxScaler()\n",
    "x_train = scaler.fit_transform(X_train)\n",
    "x_test = scaler.fit_transform(X_test)\n",
    "\n",
    "print(x_train.shape)\n",
    "print(x_test.shape)"
   ]
  },
  {
   "cell_type": "code",
   "execution_count": 22,
   "metadata": {},
   "outputs": [],
   "source": [
    "model = tf.keras.models.Sequential()\n",
    "model.add(tf.keras.layers.Dense(104, activation='relu'))\n",
    "model.add(tf.keras.layers.Dense(64, activation='relu'))\n",
    "model.add(tf.keras.layers.Dense(32, activation='relu'))\n",
    "model.add(tf.keras.layers.Dense(4, activation='softmax'))"
   ]
  },
  {
   "cell_type": "code",
   "execution_count": 23,
   "metadata": {},
   "outputs": [],
   "source": [
    "model.compile(optimizer='adam', loss=tf.keras.losses.SparseCategoricalCrossentropy(),metrics=['accuracy'])"
   ]
  },
  {
   "cell_type": "code",
   "execution_count": 24,
   "metadata": {},
   "outputs": [
    {
     "name": "stdout",
     "output_type": "stream",
     "text": [
      "Epoch 1/100\n",
      "541/541 [==============================] - 2s 2ms/step - loss: 1.2866 - accuracy: 0.2960 - val_loss: 1.2521 - val_accuracy: 0.3435\n",
      "Epoch 2/100\n",
      "541/541 [==============================] - 1s 1ms/step - loss: 1.2337 - accuracy: 0.3219 - val_loss: 1.1966 - val_accuracy: 0.3740\n",
      "Epoch 3/100\n",
      "541/541 [==============================] - 1s 1ms/step - loss: 1.2061 - accuracy: 0.3534 - val_loss: 1.2229 - val_accuracy: 0.3657\n",
      "Epoch 4/100\n",
      "541/541 [==============================] - 1s 1ms/step - loss: 1.1894 - accuracy: 0.3673 - val_loss: 1.1964 - val_accuracy: 0.3823\n",
      "Epoch 5/100\n",
      "541/541 [==============================] - 1s 1ms/step - loss: 1.1737 - accuracy: 0.3839 - val_loss: 1.1594 - val_accuracy: 0.3878\n",
      "Epoch 6/100\n",
      "541/541 [==============================] - 1s 1ms/step - loss: 1.1808 - accuracy: 0.3802 - val_loss: 1.1846 - val_accuracy: 0.3573\n",
      "Epoch 7/100\n",
      "541/541 [==============================] - 1s 1ms/step - loss: 1.1728 - accuracy: 0.3802 - val_loss: 1.1751 - val_accuracy: 0.3795\n",
      "Epoch 8/100\n",
      "541/541 [==============================] - 1s 1ms/step - loss: 1.1610 - accuracy: 0.3922 - val_loss: 1.2498 - val_accuracy: 0.3490\n",
      "Epoch 9/100\n",
      "541/541 [==============================] - 1s 1ms/step - loss: 1.1381 - accuracy: 0.4080 - val_loss: 1.2782 - val_accuracy: 0.3629\n",
      "Epoch 10/100\n",
      "541/541 [==============================] - 1s 1ms/step - loss: 1.1444 - accuracy: 0.3996 - val_loss: 1.1473 - val_accuracy: 0.3961\n",
      "Epoch 11/100\n",
      "541/541 [==============================] - 1s 1ms/step - loss: 1.1289 - accuracy: 0.4181 - val_loss: 1.2735 - val_accuracy: 0.3878\n",
      "Epoch 12/100\n",
      "541/541 [==============================] - 1s 1ms/step - loss: 1.1353 - accuracy: 0.4181 - val_loss: 1.1058 - val_accuracy: 0.4100\n",
      "Epoch 13/100\n",
      "541/541 [==============================] - 1s 1ms/step - loss: 1.1175 - accuracy: 0.4154 - val_loss: 1.1837 - val_accuracy: 0.3906\n",
      "Epoch 14/100\n",
      "541/541 [==============================] - 1s 1ms/step - loss: 1.1087 - accuracy: 0.4385 - val_loss: 1.1235 - val_accuracy: 0.4100\n",
      "Epoch 15/100\n",
      "541/541 [==============================] - 1s 1ms/step - loss: 1.0782 - accuracy: 0.4699 - val_loss: 1.0504 - val_accuracy: 0.4737\n",
      "Epoch 16/100\n",
      "541/541 [==============================] - 1s 1ms/step - loss: 1.0380 - accuracy: 0.4958 - val_loss: 1.1856 - val_accuracy: 0.4515\n",
      "Epoch 17/100\n",
      "541/541 [==============================] - 1s 1ms/step - loss: 0.9896 - accuracy: 0.5319 - val_loss: 1.0887 - val_accuracy: 0.4737\n",
      "Epoch 18/100\n",
      "541/541 [==============================] - 1s 1ms/step - loss: 0.9428 - accuracy: 0.5763 - val_loss: 0.8835 - val_accuracy: 0.6593\n",
      "Epoch 19/100\n",
      "541/541 [==============================] - 1s 1ms/step - loss: 0.8867 - accuracy: 0.6041 - val_loss: 0.8670 - val_accuracy: 0.5900\n",
      "Epoch 20/100\n",
      "541/541 [==============================] - 1s 1ms/step - loss: 0.8230 - accuracy: 0.6383 - val_loss: 0.9425 - val_accuracy: 0.5789\n",
      "Epoch 21/100\n",
      "541/541 [==============================] - 1s 1ms/step - loss: 0.7839 - accuracy: 0.6596 - val_loss: 1.0978 - val_accuracy: 0.5983\n",
      "Epoch 22/100\n",
      "541/541 [==============================] - 1s 2ms/step - loss: 0.7515 - accuracy: 0.6670 - val_loss: 0.7241 - val_accuracy: 0.7202\n",
      "Epoch 23/100\n",
      "541/541 [==============================] - 1s 2ms/step - loss: 0.7111 - accuracy: 0.6947 - val_loss: 0.8427 - val_accuracy: 0.6731\n",
      "Epoch 24/100\n",
      "541/541 [==============================] - 1s 2ms/step - loss: 0.6861 - accuracy: 0.7031 - val_loss: 1.0202 - val_accuracy: 0.6066\n",
      "Epoch 25/100\n",
      "541/541 [==============================] - 1s 2ms/step - loss: 0.7026 - accuracy: 0.7021 - val_loss: 1.2661 - val_accuracy: 0.5679\n",
      "Epoch 26/100\n",
      "541/541 [==============================] - 1s 2ms/step - loss: 0.6392 - accuracy: 0.7317 - val_loss: 0.8558 - val_accuracy: 0.6676\n",
      "Epoch 27/100\n",
      "541/541 [==============================] - 1s 1ms/step - loss: 0.6164 - accuracy: 0.7475 - val_loss: 0.7034 - val_accuracy: 0.7036\n",
      "Epoch 28/100\n",
      "541/541 [==============================] - 1s 2ms/step - loss: 0.6170 - accuracy: 0.7475 - val_loss: 0.9208 - val_accuracy: 0.6565\n",
      "Epoch 29/100\n",
      "541/541 [==============================] - 1s 2ms/step - loss: 0.5955 - accuracy: 0.7539 - val_loss: 0.8213 - val_accuracy: 0.6482\n",
      "Epoch 30/100\n",
      "541/541 [==============================] - 1s 1ms/step - loss: 0.5739 - accuracy: 0.7576 - val_loss: 0.9120 - val_accuracy: 0.6953\n",
      "Epoch 31/100\n",
      "541/541 [==============================] - 1s 1ms/step - loss: 0.6078 - accuracy: 0.7586 - val_loss: 0.8333 - val_accuracy: 0.6731\n",
      "Epoch 32/100\n",
      "541/541 [==============================] - 1s 1ms/step - loss: 0.5594 - accuracy: 0.7650 - val_loss: 0.7392 - val_accuracy: 0.6981\n",
      "Epoch 33/100\n",
      "541/541 [==============================] - 1s 1ms/step - loss: 0.5531 - accuracy: 0.7724 - val_loss: 0.9703 - val_accuracy: 0.6399\n",
      "Epoch 34/100\n",
      "541/541 [==============================] - 1s 1ms/step - loss: 0.5277 - accuracy: 0.7891 - val_loss: 0.7391 - val_accuracy: 0.6731\n",
      "Epoch 35/100\n",
      "541/541 [==============================] - 1s 2ms/step - loss: 0.5344 - accuracy: 0.7817 - val_loss: 0.7865 - val_accuracy: 0.7064\n",
      "Epoch 36/100\n",
      "541/541 [==============================] - 1s 2ms/step - loss: 0.5071 - accuracy: 0.7882 - val_loss: 0.5707 - val_accuracy: 0.7729\n",
      "Epoch 37/100\n",
      "541/541 [==============================] - 1s 2ms/step - loss: 0.5048 - accuracy: 0.7900 - val_loss: 1.2962 - val_accuracy: 0.5928\n",
      "Epoch 38/100\n",
      "541/541 [==============================] - 1s 2ms/step - loss: 0.5151 - accuracy: 0.7909 - val_loss: 1.1935 - val_accuracy: 0.5623\n",
      "Epoch 39/100\n",
      "541/541 [==============================] - 1s 1ms/step - loss: 0.4912 - accuracy: 0.8094 - val_loss: 0.9032 - val_accuracy: 0.6233\n",
      "Epoch 40/100\n",
      "541/541 [==============================] - 1s 1ms/step - loss: 0.4968 - accuracy: 0.8048 - val_loss: 1.0770 - val_accuracy: 0.5817\n",
      "Epoch 41/100\n",
      "541/541 [==============================] - 1s 1ms/step - loss: 0.4913 - accuracy: 0.7965 - val_loss: 0.5307 - val_accuracy: 0.8116\n",
      "Epoch 42/100\n",
      "541/541 [==============================] - 1s 2ms/step - loss: 0.4419 - accuracy: 0.8252 - val_loss: 0.6326 - val_accuracy: 0.7479\n",
      "Epoch 43/100\n",
      "541/541 [==============================] - 1s 2ms/step - loss: 0.4673 - accuracy: 0.7993 - val_loss: 0.6391 - val_accuracy: 0.7368\n",
      "Epoch 44/100\n",
      "541/541 [==============================] - 1s 2ms/step - loss: 0.4900 - accuracy: 0.8067 - val_loss: 0.7762 - val_accuracy: 0.6953\n",
      "Epoch 45/100\n",
      "541/541 [==============================] - 1s 2ms/step - loss: 0.4257 - accuracy: 0.8279 - val_loss: 1.1244 - val_accuracy: 0.6260\n",
      "Epoch 46/100\n",
      "541/541 [==============================] - 1s 2ms/step - loss: 0.4474 - accuracy: 0.8205 - val_loss: 0.8864 - val_accuracy: 0.6371\n",
      "Epoch 47/100\n",
      "541/541 [==============================] - 1s 2ms/step - loss: 0.4647 - accuracy: 0.8076 - val_loss: 1.0776 - val_accuracy: 0.6122\n",
      "Epoch 48/100\n",
      "541/541 [==============================] - 1s 2ms/step - loss: 0.4226 - accuracy: 0.8316 - val_loss: 1.1301 - val_accuracy: 0.6510\n",
      "Epoch 49/100\n",
      "541/541 [==============================] - 1s 2ms/step - loss: 0.4681 - accuracy: 0.8002 - val_loss: 0.6499 - val_accuracy: 0.7867\n",
      "Epoch 50/100\n",
      "541/541 [==============================] - 1s 2ms/step - loss: 0.4391 - accuracy: 0.8131 - val_loss: 0.7090 - val_accuracy: 0.7673\n",
      "Epoch 51/100\n",
      "541/541 [==============================] - 1s 2ms/step - loss: 0.4180 - accuracy: 0.8353 - val_loss: 1.4139 - val_accuracy: 0.5042\n",
      "Epoch 52/100\n",
      "541/541 [==============================] - 1s 2ms/step - loss: 0.3995 - accuracy: 0.8437 - val_loss: 0.8337 - val_accuracy: 0.6066\n",
      "Epoch 53/100\n",
      "541/541 [==============================] - 1s 2ms/step - loss: 0.4437 - accuracy: 0.8205 - val_loss: 1.0235 - val_accuracy: 0.6177\n",
      "Epoch 54/100\n",
      "541/541 [==============================] - 1s 2ms/step - loss: 0.4345 - accuracy: 0.8307 - val_loss: 1.0255 - val_accuracy: 0.6814\n",
      "Epoch 55/100\n",
      "541/541 [==============================] - 1s 2ms/step - loss: 0.4096 - accuracy: 0.8372 - val_loss: 0.8298 - val_accuracy: 0.7175\n",
      "Epoch 56/100\n",
      "541/541 [==============================] - 1s 1ms/step - loss: 0.4264 - accuracy: 0.8242 - val_loss: 0.7645 - val_accuracy: 0.7258\n",
      "Epoch 57/100\n",
      "541/541 [==============================] - 1s 2ms/step - loss: 0.4029 - accuracy: 0.8205 - val_loss: 1.1897 - val_accuracy: 0.6620\n",
      "Epoch 58/100\n",
      "541/541 [==============================] - 1s 1ms/step - loss: 0.3901 - accuracy: 0.8372 - val_loss: 0.9813 - val_accuracy: 0.6537\n",
      "Epoch 59/100\n",
      "541/541 [==============================] - 1s 2ms/step - loss: 0.3675 - accuracy: 0.8566 - val_loss: 0.7777 - val_accuracy: 0.7258\n",
      "Epoch 60/100\n",
      "541/541 [==============================] - 1s 2ms/step - loss: 0.4226 - accuracy: 0.8344 - val_loss: 0.9666 - val_accuracy: 0.7119\n",
      "Epoch 61/100\n",
      "541/541 [==============================] - 1s 2ms/step - loss: 0.3955 - accuracy: 0.8455 - val_loss: 0.9473 - val_accuracy: 0.6676\n",
      "Epoch 62/100\n",
      "541/541 [==============================] - 1s 2ms/step - loss: 0.3772 - accuracy: 0.8538 - val_loss: 1.1188 - val_accuracy: 0.5540\n",
      "Epoch 63/100\n",
      "541/541 [==============================] - 1s 1ms/step - loss: 0.3746 - accuracy: 0.8464 - val_loss: 0.8680 - val_accuracy: 0.6759\n",
      "Epoch 64/100\n",
      "541/541 [==============================] - 1s 2ms/step - loss: 0.3646 - accuracy: 0.8612 - val_loss: 0.6354 - val_accuracy: 0.7618\n",
      "Epoch 65/100\n",
      "541/541 [==============================] - 1s 1ms/step - loss: 0.3839 - accuracy: 0.8446 - val_loss: 0.8586 - val_accuracy: 0.6898\n",
      "Epoch 66/100\n",
      "541/541 [==============================] - 1s 2ms/step - loss: 0.3888 - accuracy: 0.8529 - val_loss: 0.9683 - val_accuracy: 0.6371\n",
      "Epoch 67/100\n",
      "541/541 [==============================] - 1s 2ms/step - loss: 0.3568 - accuracy: 0.8594 - val_loss: 0.9851 - val_accuracy: 0.7396\n",
      "Epoch 68/100\n",
      "541/541 [==============================] - 1s 2ms/step - loss: 0.3986 - accuracy: 0.8279 - val_loss: 0.7428 - val_accuracy: 0.7618\n",
      "Epoch 69/100\n",
      "541/541 [==============================] - 1s 2ms/step - loss: 0.3329 - accuracy: 0.8649 - val_loss: 1.0668 - val_accuracy: 0.6620\n",
      "Epoch 70/100\n",
      "541/541 [==============================] - 1s 1ms/step - loss: 0.3345 - accuracy: 0.8575 - val_loss: 0.6795 - val_accuracy: 0.7285\n",
      "Epoch 71/100\n",
      "541/541 [==============================] - 1s 1ms/step - loss: 0.4052 - accuracy: 0.8409 - val_loss: 0.5963 - val_accuracy: 0.7922\n",
      "Epoch 72/100\n",
      "541/541 [==============================] - 1s 1ms/step - loss: 0.3456 - accuracy: 0.8668 - val_loss: 0.8659 - val_accuracy: 0.7091\n",
      "Epoch 73/100\n",
      "541/541 [==============================] - 1s 1ms/step - loss: 0.3276 - accuracy: 0.8733 - val_loss: 1.1327 - val_accuracy: 0.6094\n",
      "Epoch 74/100\n",
      "541/541 [==============================] - 1s 1ms/step - loss: 0.3378 - accuracy: 0.8825 - val_loss: 0.8366 - val_accuracy: 0.7729\n",
      "Epoch 75/100\n",
      "541/541 [==============================] - 1s 1ms/step - loss: 0.3413 - accuracy: 0.8686 - val_loss: 0.8437 - val_accuracy: 0.7091\n",
      "Epoch 76/100\n",
      "541/541 [==============================] - 1s 1ms/step - loss: 0.3083 - accuracy: 0.8834 - val_loss: 1.0473 - val_accuracy: 0.6288\n",
      "Epoch 77/100\n",
      "541/541 [==============================] - 1s 1ms/step - loss: 0.3504 - accuracy: 0.8566 - val_loss: 1.3623 - val_accuracy: 0.5706\n",
      "Epoch 78/100\n",
      "541/541 [==============================] - 1s 2ms/step - loss: 0.3065 - accuracy: 0.8797 - val_loss: 0.6966 - val_accuracy: 0.7341\n",
      "Epoch 79/100\n",
      "541/541 [==============================] - 1s 1ms/step - loss: 0.3294 - accuracy: 0.8696 - val_loss: 1.3692 - val_accuracy: 0.5845\n",
      "Epoch 80/100\n",
      "541/541 [==============================] - 1s 1ms/step - loss: 0.3510 - accuracy: 0.8705 - val_loss: 1.7485 - val_accuracy: 0.5374\n",
      "Epoch 81/100\n",
      "541/541 [==============================] - 1s 1ms/step - loss: 0.3213 - accuracy: 0.8751 - val_loss: 0.7657 - val_accuracy: 0.7313\n",
      "Epoch 82/100\n",
      "541/541 [==============================] - 1s 1ms/step - loss: 0.3592 - accuracy: 0.8603 - val_loss: 1.0241 - val_accuracy: 0.6593\n",
      "Epoch 83/100\n",
      "541/541 [==============================] - 1s 1ms/step - loss: 0.3041 - accuracy: 0.8760 - val_loss: 0.7333 - val_accuracy: 0.7645\n",
      "Epoch 84/100\n",
      "541/541 [==============================] - 1s 2ms/step - loss: 0.3313 - accuracy: 0.8668 - val_loss: 1.5348 - val_accuracy: 0.5845\n",
      "Epoch 85/100\n",
      "541/541 [==============================] - 1s 2ms/step - loss: 0.3458 - accuracy: 0.8631 - val_loss: 0.6141 - val_accuracy: 0.7701\n",
      "Epoch 86/100\n",
      "541/541 [==============================] - 1s 2ms/step - loss: 0.2953 - accuracy: 0.8825 - val_loss: 2.1866 - val_accuracy: 0.5263\n",
      "Epoch 87/100\n",
      "541/541 [==============================] - 1s 2ms/step - loss: 0.3240 - accuracy: 0.8696 - val_loss: 1.1590 - val_accuracy: 0.6510\n",
      "Epoch 88/100\n",
      "541/541 [==============================] - 1s 1ms/step - loss: 0.2771 - accuracy: 0.8918 - val_loss: 1.1993 - val_accuracy: 0.6593\n",
      "Epoch 89/100\n",
      "541/541 [==============================] - 1s 2ms/step - loss: 0.2945 - accuracy: 0.8834 - val_loss: 1.4384 - val_accuracy: 0.6094\n",
      "Epoch 90/100\n",
      "541/541 [==============================] - 1s 2ms/step - loss: 0.3048 - accuracy: 0.8723 - val_loss: 1.1342 - val_accuracy: 0.6704\n",
      "Epoch 91/100\n",
      "541/541 [==============================] - 1s 2ms/step - loss: 0.2966 - accuracy: 0.8760 - val_loss: 1.8320 - val_accuracy: 0.5817\n",
      "Epoch 92/100\n",
      "541/541 [==============================] - 1s 1ms/step - loss: 0.2961 - accuracy: 0.8908 - val_loss: 0.9193 - val_accuracy: 0.7313\n",
      "Epoch 93/100\n",
      "541/541 [==============================] - 1s 1ms/step - loss: 0.2863 - accuracy: 0.8834 - val_loss: 0.7836 - val_accuracy: 0.7701\n",
      "Epoch 94/100\n",
      "541/541 [==============================] - 1s 1ms/step - loss: 0.2621 - accuracy: 0.9038 - val_loss: 1.0894 - val_accuracy: 0.6593\n",
      "Epoch 95/100\n",
      "541/541 [==============================] - 1s 1ms/step - loss: 0.2713 - accuracy: 0.8992 - val_loss: 1.3439 - val_accuracy: 0.6454\n",
      "Epoch 96/100\n",
      "541/541 [==============================] - 1s 1ms/step - loss: 0.2706 - accuracy: 0.8982 - val_loss: 0.9708 - val_accuracy: 0.6842\n",
      "Epoch 97/100\n",
      "541/541 [==============================] - 1s 2ms/step - loss: 0.2777 - accuracy: 0.9019 - val_loss: 1.4020 - val_accuracy: 0.6454\n",
      "Epoch 98/100\n",
      "541/541 [==============================] - 1s 2ms/step - loss: 0.2665 - accuracy: 0.8945 - val_loss: 1.1376 - val_accuracy: 0.6565\n",
      "Epoch 99/100\n",
      "541/541 [==============================] - 1s 2ms/step - loss: 0.2655 - accuracy: 0.8955 - val_loss: 0.8895 - val_accuracy: 0.7285\n",
      "Epoch 100/100\n",
      "541/541 [==============================] - 1s 1ms/step - loss: 0.3015 - accuracy: 0.8751 - val_loss: 1.0221 - val_accuracy: 0.6814\n"
     ]
    }
   ],
   "source": [
    "history = model.fit(x_train, y_train,batch_size = 2, epochs= 100, validation_data=(x_test, y_test))"
   ]
  },
  {
   "cell_type": "code",
   "execution_count": 25,
   "metadata": {},
   "outputs": [
    {
     "name": "stdout",
     "output_type": "stream",
     "text": [
      "Model: \"sequential\"\n",
      "_________________________________________________________________\n",
      " Layer (type)                Output Shape              Param #   \n",
      "=================================================================\n",
      " dense (Dense)               (None, 104)               10920     \n",
      "                                                                 \n",
      " dense_1 (Dense)             (None, 64)                6720      \n",
      "                                                                 \n",
      " dense_2 (Dense)             (None, 32)                2080      \n",
      "                                                                 \n",
      " dense_3 (Dense)             (None, 4)                 132       \n",
      "                                                                 \n",
      "=================================================================\n",
      "Total params: 19,852\n",
      "Trainable params: 19,852\n",
      "Non-trainable params: 0\n",
      "_________________________________________________________________\n"
     ]
    }
   ],
   "source": [
    "model.summary()"
   ]
  },
  {
   "cell_type": "code",
   "execution_count": 26,
   "metadata": {},
   "outputs": [],
   "source": [
    "accuracy = history.history['accuracy']"
   ]
  },
  {
   "cell_type": "code",
   "execution_count": 27,
   "metadata": {},
   "outputs": [
    {
     "data": {
      "text/plain": [
       "[<matplotlib.lines.Line2D at 0x1583057a8f0>]"
      ]
     },
     "execution_count": 27,
     "metadata": {},
     "output_type": "execute_result"
    },
    {
     "data": {
      "image/png": "[encoded data removed]",
      "text/plain": [
       "<Figure size 640x480 with 1 Axes>"
      ]
     },
     "metadata": {},
     "output_type": "display_data"
    }
   ],
   "source": [
    "plt.plot(accuracy)"
   ]
  },
  {
   "cell_type": "code",
   "execution_count": 28,
   "metadata": {},
   "outputs": [
    {
     "name": "stderr",
     "output_type": "stream",
     "text": [
      "WARNING:absl:Found untraced functions such as _update_step_xla while saving (showing 1 of 1). These functions will not be directly callable after loading.\n"
     ]
    },
    {
     "name": "stdout",
     "output_type": "stream",
     "text": [
      "INFO:tensorflow:Assets written to: model\\assets\n"
     ]
    },
    {
     "name": "stderr",
     "output_type": "stream",
     "text": [
      "INFO:tensorflow:Assets written to: model\\assets\n"
     ]
    }
   ],
   "source": [
    "model.save('model')"
   ]
  },
  {
   "cell_type": "code",
   "execution_count": 29,
   "metadata": {},
   "outputs": [
    {
     "data": {
      "text/plain": [
       "array([0.625     , 0.        , 0.6       , 0.        , 0.6097561 ,\n",
       "       0.        , 0.6       , 0.        , 0.58974359, 0.        ,\n",
       "       0.56410256, 0.        , 0.55263158, 0.        , 0.57894737,\n",
       "       0.        , 0.55555556, 0.        , 0.51351351, 0.        ,\n",
       "       0.52631579, 0.        , 0.53846154, 0.        , 0.525     ,\n",
       "       0.        , 0.51282051, 0.        , 0.52631579, 0.        ,\n",
       "       0.5       , 0.        , 0.475     , 0.        , 0.48648649,\n",
       "       0.        , 0.5       , 0.        , 0.52777778, 0.02702703,\n",
       "       0.54054054, 0.        , 0.48648649, 0.        , 0.45945946,\n",
       "       0.        , 0.44736842, 0.        , 0.45      , 0.        ,\n",
       "       0.475     , 0.        , 0.42857143, 0.02439024, 0.45454545,\n",
       "       0.04651163, 0.40909091, 0.04545455, 0.43181818, 0.02325581,\n",
       "       0.42857143, 0.02380952, 0.45238095, 0.02325581, 0.44186047,\n",
       "       0.02325581, 0.45454545, 0.04545455, 0.44897959, 0.06521739,\n",
       "       0.44      , 0.08333333, 0.45833333, 0.08333333, 0.47916667,\n",
       "       0.08333333, 0.5       , 0.08510638, 0.52      , 0.10638298,\n",
       "       0.49019608, 0.125     , 0.47169811, 0.12      , 0.50943396,\n",
       "       0.09615385, 0.54      , 0.11764706, 0.55769231, 0.14285714,\n",
       "       0.53703704, 0.14583333, 0.52727273, 0.12765957, 0.54545455,\n",
       "       0.14893617, 0.56140351, 0.14583333, 0.55357143, 0.14583333,\n",
       "       0.56140351, 0.12765957, 0.58928571, 0.08510638])"
      ]
     },
     "execution_count": 29,
     "metadata": {},
     "output_type": "execute_result"
    }
   ],
   "source": [
    "x_test[0]"
   ]
  }
 ],
 "metadata": {
  "kernelspec": {
   "display_name": "senior-design",
   "language": "python",
   "name": "python3"
  },
  "language_info": {
   "codemirror_mode": {
    "name": "ipython",
    "version": 3
   },
   "file_extension": ".py",
   "mimetype": "text/x-python",
   "name": "python",
   "nbconvert_exporter": "python",
   "pygments_lexer": "ipython3",
   "version": "3.10.7"
  },
  "orig_nbformat": 4,
  "vscode": {
   "interpreter": {
    "hash": "f03a25c747c3d4cb159d4fc5dcb451f51928afdc4a9bfdc99a05ae0b7a6b96ad"
   }
  }
 },
 "nbformat": 4,
 "nbformat_minor": 2
}
